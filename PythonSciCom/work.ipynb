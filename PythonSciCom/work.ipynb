{
 "metadata": {
  "language_info": {
   "codemirror_mode": {
    "name": "ipython",
    "version": 3
   },
   "file_extension": ".py",
   "mimetype": "text/x-python",
   "name": "python",
   "nbconvert_exporter": "python",
   "pygments_lexer": "ipython3",
   "version": "3.9.4-final"
  },
  "orig_nbformat": 2,
  "kernelspec": {
   "name": "python394jvsc74a57bd0ac46306f7c2abedc169b2a9a9febe3a69578b89b09d32fba374eb52dddc022f1",
   "display_name": "Python 3.9.4 64-bit"
  }
 },
 "nbformat": 4,
 "nbformat_minor": 2,
 "cells": [
  {
   "cell_type": "code",
   "execution_count": 20,
   "metadata": {},
   "outputs": [],
   "source": [
    "import numpy as np"
   ]
  },
  {
   "cell_type": "code",
   "execution_count": 21,
   "metadata": {},
   "outputs": [
    {
     "output_type": "execute_result",
     "data": {
      "text/plain": [
       "array([0, 0, 0, 0, 1, 0, 0, 0, 0, 0, 0, 0, 0, 0, 0, 0], dtype=int64)"
      ]
     },
     "metadata": {},
     "execution_count": 21
    }
   ],
   "source": [
    "# 第一题\n",
    "nadarray = np.zeros(16, np.int64)\n",
    "nadarray[4] = 1\n",
    "nadarray"
   ]
  },
  {
   "cell_type": "code",
   "execution_count": 22,
   "metadata": {},
   "outputs": [
    {
     "output_type": "execute_result",
     "data": {
      "text/plain": [
       "array([10, 11, 12, 13, 14, 15, 16, 17, 18, 19, 20, 21, 22, 23, 24, 25, 26,\n",
       "       27, 28, 29, 30, 31, 32, 33, 34, 35, 36, 37, 38, 39, 40, 41, 42, 43,\n",
       "       44, 45, 46, 47, 48, 49])"
      ]
     },
     "metadata": {},
     "execution_count": 22
    }
   ],
   "source": [
    "# 第二题\n",
    "nadarray = np.arange(10, 50)\n",
    "nadarray"
   ]
  },
  {
   "cell_type": "code",
   "execution_count": 23,
   "metadata": {},
   "outputs": [
    {
     "output_type": "execute_result",
     "data": {
      "text/plain": [
       "array([49, 48, 47, 46, 45, 44, 43, 42, 41, 40, 39, 38, 37, 36, 35, 34, 33,\n",
       "       32, 31, 30, 29, 28, 27, 26, 25, 24, 23, 22, 21, 20, 19, 18, 17, 16,\n",
       "       15, 14, 13, 12, 11, 10])"
      ]
     },
     "metadata": {},
     "execution_count": 23
    }
   ],
   "source": [
    "# 第三题\n",
    "antiarray = nadarray[::-1]\n",
    "antiarray"
   ]
  },
  {
   "cell_type": "code",
   "execution_count": 24,
   "metadata": {},
   "outputs": [
    {
     "output_type": "execute_result",
     "data": {
      "text/plain": [
       "array([[1., 1., 1., 1., 1., 1., 1., 1., 1., 1.],\n",
       "       [1., 0., 0., 0., 0., 0., 0., 0., 0., 1.],\n",
       "       [1., 0., 0., 0., 0., 0., 0., 0., 0., 1.],\n",
       "       [1., 0., 0., 0., 0., 0., 0., 0., 0., 1.],\n",
       "       [1., 0., 0., 0., 0., 0., 0., 0., 0., 1.],\n",
       "       [1., 0., 0., 0., 0., 0., 0., 0., 0., 1.],\n",
       "       [1., 0., 0., 0., 0., 0., 0., 0., 0., 1.],\n",
       "       [1., 0., 0., 0., 0., 0., 0., 0., 0., 1.],\n",
       "       [1., 0., 0., 0., 0., 0., 0., 0., 0., 1.],\n",
       "       [1., 1., 1., 1., 1., 1., 1., 1., 1., 1.]])"
      ]
     },
     "metadata": {},
     "execution_count": 24
    }
   ],
   "source": [
    "# 第四题\n",
    "one = np.ones((10,10))\n",
    "inter = np.zeros((8, 8))\n",
    "one[1:9, 1:9] = inter\n",
    "one"
   ]
  },
  {
   "cell_type": "code",
   "execution_count": 25,
   "metadata": {},
   "outputs": [
    {
     "output_type": "stream",
     "name": "stdout",
     "text": [
      "[[7 5 0 1]\n [7 3 7 2]\n [4 3 0 3]\n [5 8 6 6]]\n[[5 0]\n [3 7]]\n"
     ]
    }
   ],
   "source": [
    "# 第五题\n",
    "rann = np.random.randint(0, 9, size = (1,16))\n",
    "rann.shape = 4,4\n",
    "ran = rann[:2, 1:3]\n",
    "print(rann)\n",
    "print(ran)"
   ]
  },
  {
   "cell_type": "code",
   "execution_count": 26,
   "metadata": {},
   "outputs": [
    {
     "output_type": "execute_result",
     "data": {
      "text/plain": [
       "array([[78, 76, 80]])"
      ]
     },
     "metadata": {},
     "execution_count": 26
    }
   ],
   "source": [
    "# 第六题\n",
    "student_name = np.array(['Tom','Lily','Jack','Rose'])\n",
    "student_score = np.array([[79,88,80],[89,90,92],[83,78,85],[78,76,80]])\n",
    "Bo = student_name == 'Rose'\n",
    "student_score[Bo]"
   ]
  },
  {
   "cell_type": "code",
   "execution_count": 27,
   "metadata": {},
   "outputs": [
    {
     "output_type": "execute_result",
     "data": {
      "text/plain": [
       "matrix([[22, 28],\n",
       "        [49, 64]])"
      ]
     },
     "metadata": {},
     "execution_count": 27
    }
   ],
   "source": [
    "# 第七题\n",
    "a = np.mat([[1, 2, 3], [4, 5, 6]])\n",
    "b = np.mat([[1, 2], [3, 4], [5, 6]])\n",
    "a*b"
   ]
  },
  {
   "cell_type": "code",
   "execution_count": 28,
   "metadata": {},
   "outputs": [
    {
     "output_type": "execute_result",
     "data": {
      "text/plain": [
       "2.000000000000003"
      ]
     },
     "metadata": {},
     "execution_count": 28
    }
   ],
   "source": [
    "# 第八题\n",
    "f = np.mat([[1,2,4], [3,4,7], [5,6,9]])\n",
    "np.linalg.det(f)"
   ]
  },
  {
   "cell_type": "code",
   "execution_count": 29,
   "metadata": {},
   "outputs": [
    {
     "output_type": "stream",
     "name": "stdout",
     "text": [
      "[[1.73205081 1.         2.82842712]\n [2.         1.41421356 2.        ]\n [1.41421356 2.44948974 2.44948974]]\n[[3 4 3]\n [8 7 7]\n [1 7 5]]\n[[3.         4.         3.        ]\n [8.         7.         7.        ]\n [1.41421356 7.         5.        ]]\n[[False False False]\n [False False False]\n [ True False False]]\n"
     ]
    }
   ],
   "source": [
    "# 第九题\n",
    "a = np.random.randint(0, 9, size=(3,3))\n",
    "b = np.random.randint(-9, 9, size=(3,3))\n",
    "\n",
    "a = a**0.5\n",
    "print(a)\n",
    "b = abs(b)\n",
    "print(b)\n",
    "print(np.maximum(a, b))\n",
    "print(a>b)"
   ]
  },
  {
   "cell_type": "code",
   "execution_count": 30,
   "metadata": {},
   "outputs": [
    {
     "output_type": "stream",
     "name": "stdout",
     "text": [
      "[[-41 -38 -17]\n [ 16 -22 -37]\n [ 22   3  -1]]\n[[0.         0.04761905 0.38095238]\n [0.9047619  0.3015873  0.06349206]\n [1.         0.6984127  0.63492063]]\n"
     ]
    }
   ],
   "source": [
    "# 第十题\n",
    "k = np.random.randint(-50, 50, size=(3,3))\n",
    "min = np.min(k)\n",
    "max = np.max(k)\n",
    "\n",
    "print(k)\n",
    "k = (k-min)/(max-min)\n",
    "print(k)"
   ]
  }
 ]
}